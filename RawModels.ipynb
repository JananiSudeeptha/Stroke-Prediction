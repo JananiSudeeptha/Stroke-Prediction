{
  "nbformat": 4,
  "nbformat_minor": 0,
  "metadata": {
    "colab": {
      "provenance": []
    },
    "kernelspec": {
      "name": "python3",
      "display_name": "Python 3"
    },
    "language_info": {
      "name": "python"
    }
  },
  "cells": [
    {
      "cell_type": "code",
      "execution_count": null,
      "metadata": {
        "colab": {
          "base_uri": "https://localhost:8080/"
        },
        "id": "VhG4fRUbJ9DI",
        "outputId": "1a24aa15-90b3-4918-924b-99540df47653"
      },
      "outputs": [
        {
          "output_type": "stream",
          "name": "stdout",
          "text": [
            "Drive already mounted at /content/drive; to attempt to forcibly remount, call drive.mount(\"/content/drive\", force_remount=True).\n"
          ]
        }
      ],
      "source": [
        "from google.colab import drive\n",
        "drive.mount('/content/drive')"
      ]
    },
    {
      "cell_type": "code",
      "source": [
        "import pandas as pd\n",
        "import numpy as np\n",
        "from sklearn.model_selection import train_test_split\n",
        "from sklearn.neighbors import KNeighborsRegressor\n",
        "from sklearn.metrics import classification_report\n",
        "from keras.models import Sequential\n",
        "from keras.layers import Dense, Dropout\n",
        "from keras.callbacks import EarlyStopping"
      ],
      "metadata": {
        "id": "ukkoOZwfJ_Na"
      },
      "execution_count": null,
      "outputs": []
    },
    {
      "cell_type": "code",
      "source": [
        "df = pd.read_csv(\"/content/drive/Shareddrives/Data Mining Project/Datasets/Kaggle/stroke_data.csv\")"
      ],
      "metadata": {
        "id": "AmdGVvToKEy5"
      },
      "execution_count": null,
      "outputs": []
    },
    {
      "cell_type": "code",
      "source": [
        "df['sex'] = df['sex'].fillna(df['sex'].mode()[0])"
      ],
      "metadata": {
        "id": "ktU34niOKJLI"
      },
      "execution_count": null,
      "outputs": []
    },
    {
      "cell_type": "code",
      "source": [
        "df = df.drop(df.index[df['age'] < 0])"
      ],
      "metadata": {
        "id": "2Ix_dt9ZKTQI"
      },
      "execution_count": null,
      "outputs": []
    },
    {
      "cell_type": "code",
      "source": [
        "df = df.head(35000)"
      ],
      "metadata": {
        "id": "PNHSFVu0904q"
      },
      "execution_count": null,
      "outputs": []
    },
    {
      "cell_type": "code",
      "source": [
        "df = df[['hypertension', 'avg_glucose_level', 'heart_disease', 'age', 'bmi', 'work_type', 'stroke']]"
      ],
      "metadata": {
        "id": "-lbMrIXHLXyZ"
      },
      "execution_count": null,
      "outputs": []
    },
    {
      "cell_type": "code",
      "source": [
        "y = df['stroke']\n",
        "X = df.drop(['stroke'], axis=1)"
      ],
      "metadata": {
        "id": "SKk8xsE_KXpF"
      },
      "execution_count": null,
      "outputs": []
    },
    {
      "cell_type": "code",
      "source": [
        "X_train, X_test, y_train, y_test = train_test_split(X, y, test_size=0.2, random_state=42)"
      ],
      "metadata": {
        "id": "CrNXd827Kutb"
      },
      "execution_count": null,
      "outputs": []
    },
    {
      "cell_type": "code",
      "source": [
        "from xgboost import XGBClassifier\n",
        "\n",
        "model = XGBClassifier(use_label_encoder=False, eval_metric='mlogloss')\n",
        "model.fit(X_train, y_train)\n",
        "# XGBClassifier(base_score=0.5, booster='gbtree', colsample_bylevel=1,\n",
        "#               colsample_bynode=1, colsample_bytree=1, eval_metric='mlogloss',\n",
        "#               gamma=0, gpu_id=-1, importance_type='gain',\n",
        "#               interaction_constraints='', learning_rate=0.300000012,\n",
        "#               max_delta_step=0, max_depth=6, min_child_weight=1, missing=nan,\n",
        "#               monotone_constraints='()', n_estimators=100, n_jobs=16,\n",
        "#               num_parallel_tree=1, objective='multi:softprob', random_state=0,\n",
        "#               reg_alpha=0, reg_lambda=1, scale_pos_weight=None, subsample=1,\n",
        "#               tree_method='exact', use_label_encoder=False,\n",
        "#               validate_parameters=1, verbosity=None)\n",
        "y_pred = model.predict(X_test)\n",
        "print(f\"training score : {model.score(X_train, y_train)}\")\n",
        "print(f\"training score : {model.score(X_test, y_test)}\")\n",
        "print(classification_report(y_test, y_pred))"
      ],
      "metadata": {
        "colab": {
          "base_uri": "https://localhost:8080/"
        },
        "id": "XQmBRIzq5IGH",
        "outputId": "e95204a2-8793-4bd3-b595-8656859e2b49"
      },
      "execution_count": null,
      "outputs": [
        {
          "output_type": "stream",
          "name": "stderr",
          "text": [
            "/usr/local/lib/python3.8/dist-packages/xgboost/sklearn.py:1395: UserWarning: `use_label_encoder` is deprecated in 1.7.0.\n",
            "  warnings.warn(\"`use_label_encoder` is deprecated in 1.7.0.\")\n"
          ]
        },
        {
          "output_type": "stream",
          "name": "stdout",
          "text": [
            "0.9965357142857143\n",
            "0.992\n",
            "              precision    recall  f1-score   support\n",
            "\n",
            "           0       1.00      0.98      0.99      2920\n",
            "           1       0.99      1.00      0.99      4080\n",
            "\n",
            "    accuracy                           0.99      7000\n",
            "   macro avg       0.99      0.99      0.99      7000\n",
            "weighted avg       0.99      0.99      0.99      7000\n",
            "\n"
          ]
        }
      ]
    },
    {
      "cell_type": "code",
      "source": [
        "from sklearn.linear_model import LogisticRegression\n",
        "\n",
        "\n",
        "# instantiate the model\n",
        "logreg = LogisticRegression(solver='liblinear', random_state=0)\n",
        "\n",
        "\n",
        "# fit the model\n",
        "logreg.fit(X_train, y_train)\n",
        "\n",
        "# Step 4: Evaluate the model\n",
        "# p_pred = model.predict_proba(x)\n",
        "y_pred = logreg.predict(X_test)\n",
        "# score_ = model.score(x, y)\n",
        "# conf_m = confusion_matrix(y, y_pred)\n",
        "report = classification_report(y_test, y_pred)\n",
        "print(report)"
      ],
      "metadata": {
        "colab": {
          "base_uri": "https://localhost:8080/"
        },
        "id": "c8qWzLjQQp3V",
        "outputId": "1099293a-2743-4aa8-a4ff-dbce3d1ec61e"
      },
      "execution_count": null,
      "outputs": [
        {
          "output_type": "stream",
          "name": "stdout",
          "text": [
            "              precision    recall  f1-score   support\n",
            "\n",
            "           0       0.00      0.00      0.00       928\n",
            "           1       0.81      1.00      0.90      4072\n",
            "\n",
            "    accuracy                           0.81      5000\n",
            "   macro avg       0.41      0.50      0.45      5000\n",
            "weighted avg       0.66      0.81      0.73      5000\n",
            "\n"
          ]
        },
        {
          "output_type": "stream",
          "name": "stderr",
          "text": [
            "/usr/local/lib/python3.8/dist-packages/sklearn/metrics/_classification.py:1344: UndefinedMetricWarning: Precision and F-score are ill-defined and being set to 0.0 in labels with no predicted samples. Use `zero_division` parameter to control this behavior.\n",
            "  _warn_prf(average, modifier, msg_start, len(result))\n",
            "/usr/local/lib/python3.8/dist-packages/sklearn/metrics/_classification.py:1344: UndefinedMetricWarning: Precision and F-score are ill-defined and being set to 0.0 in labels with no predicted samples. Use `zero_division` parameter to control this behavior.\n",
            "  _warn_prf(average, modifier, msg_start, len(result))\n",
            "/usr/local/lib/python3.8/dist-packages/sklearn/metrics/_classification.py:1344: UndefinedMetricWarning: Precision and F-score are ill-defined and being set to 0.0 in labels with no predicted samples. Use `zero_division` parameter to control this behavior.\n",
            "  _warn_prf(average, modifier, msg_start, len(result))\n"
          ]
        }
      ]
    },
    {
      "cell_type": "code",
      "source": [
        "from sklearn.ensemble import RandomForestClassifier\n",
        "#Create a Gaussian Classifier\n",
        "clf=RandomForestClassifier(n_estimators=100)\n",
        "#Train the model using the training sets y_pred=clf.predict(X_test)\n",
        "clf.fit(X_train,y_train)\n",
        "preds = clf.predict(X_test)\n",
        "print(classification_report(y_test, y_pred))"
      ],
      "metadata": {
        "colab": {
          "base_uri": "https://localhost:8080/"
        },
        "id": "LSRCTiPW3gSe",
        "outputId": "632c8400-cb47-482d-eb35-7632a62fdcb3"
      },
      "execution_count": null,
      "outputs": [
        {
          "output_type": "stream",
          "name": "stdout",
          "text": [
            "              precision    recall  f1-score   support\n",
            "\n",
            "           0       0.00      0.00      0.00       939\n",
            "           1       0.81      1.00      0.90      4061\n",
            "\n",
            "    accuracy                           0.81      5000\n",
            "   macro avg       0.41      0.50      0.45      5000\n",
            "weighted avg       0.66      0.81      0.73      5000\n",
            "\n"
          ]
        },
        {
          "output_type": "stream",
          "name": "stderr",
          "text": [
            "/usr/local/lib/python3.8/dist-packages/sklearn/metrics/_classification.py:1344: UndefinedMetricWarning: Precision and F-score are ill-defined and being set to 0.0 in labels with no predicted samples. Use `zero_division` parameter to control this behavior.\n",
            "  _warn_prf(average, modifier, msg_start, len(result))\n",
            "/usr/local/lib/python3.8/dist-packages/sklearn/metrics/_classification.py:1344: UndefinedMetricWarning: Precision and F-score are ill-defined and being set to 0.0 in labels with no predicted samples. Use `zero_division` parameter to control this behavior.\n",
            "  _warn_prf(average, modifier, msg_start, len(result))\n",
            "/usr/local/lib/python3.8/dist-packages/sklearn/metrics/_classification.py:1344: UndefinedMetricWarning: Precision and F-score are ill-defined and being set to 0.0 in labels with no predicted samples. Use `zero_division` parameter to control this behavior.\n",
            "  _warn_prf(average, modifier, msg_start, len(result))\n"
          ]
        }
      ]
    },
    {
      "cell_type": "code",
      "source": [],
      "metadata": {
        "id": "mYaZ3ubT4Dc0"
      },
      "execution_count": null,
      "outputs": []
    },
    {
      "cell_type": "code",
      "source": [
        "knn_model = KNeighborsRegressor(n_neighbors=3)\n",
        "knn_model.fit(X_train, y_train)\n",
        "preds = np.round(knn_model.predict(X_test),0)\n",
        "print(classification_report(y_test, preds))"
      ],
      "metadata": {
        "colab": {
          "base_uri": "https://localhost:8080/"
        },
        "id": "YVGKxZgPL4Ka",
        "outputId": "e45f650a-23f0-4a6f-b935-aa8a3010d7de"
      },
      "execution_count": null,
      "outputs": [
        {
          "output_type": "stream",
          "name": "stdout",
          "text": [
            "              precision    recall  f1-score   support\n",
            "\n",
            "           0       0.93      0.37      0.53       939\n",
            "           1       0.87      0.99      0.93      4061\n",
            "\n",
            "    accuracy                           0.88      5000\n",
            "   macro avg       0.90      0.68      0.73      5000\n",
            "weighted avg       0.88      0.88      0.85      5000\n",
            "\n"
          ]
        }
      ]
    },
    {
      "cell_type": "code",
      "source": [
        "model = Sequential()\n",
        "model.add(Dense(16, input_shape=(X.shape[1],), activation='relu')) # Add an input shape! (features,)\n",
        "model.add(Dense(16, activation='relu'))\n",
        "model.add(Dense(1, activation='sigmoid'))\n",
        "model.summary() \n",
        "\n",
        "# compile the model\n",
        "model.compile(optimizer='Adam', \n",
        "              loss='binary_crossentropy',\n",
        "              metrics=['accuracy'])\n",
        "\n",
        "# early stopping callback\n",
        "# This callback will stop the training when there is no improvement in  \n",
        "# the validation loss for 10 consecutive epochs.  \n",
        "es = EarlyStopping(monitor='val_accuracy', \n",
        "                                   mode='max', # don't minimize the accuracy!\n",
        "                                   patience=10,\n",
        "                                   restore_best_weights=True)\n",
        "\n",
        "# now we just update our model fit call\n",
        "history = model.fit(X,\n",
        "                    y,\n",
        "                    callbacks=[es],\n",
        "                    epochs=80, # you can set this to a big number!\n",
        "                    batch_size=10,\n",
        "                    validation_split=0.2,\n",
        "                    shuffle=True,\n",
        "                    verbose=1)"
      ],
      "metadata": {
        "colab": {
          "base_uri": "https://localhost:8080/"
        },
        "id": "1w9hSwioQQJb",
        "outputId": "03915933-d637-4a71-ddd6-e8407705404e"
      },
      "execution_count": null,
      "outputs": [
        {
          "output_type": "stream",
          "name": "stdout",
          "text": [
            "Model: \"sequential\"\n",
            "_________________________________________________________________\n",
            " Layer (type)                Output Shape              Param #   \n",
            "=================================================================\n",
            " dense (Dense)               (None, 16)                112       \n",
            "                                                                 \n",
            " dense_1 (Dense)             (None, 16)                272       \n",
            "                                                                 \n",
            " dense_2 (Dense)             (None, 1)                 17        \n",
            "                                                                 \n",
            "=================================================================\n",
            "Total params: 401\n",
            "Trainable params: 401\n",
            "Non-trainable params: 0\n",
            "_________________________________________________________________\n",
            "Epoch 1/80\n",
            "3269/3269 [==============================] - 9s 2ms/step - loss: 0.6520 - accuracy: 0.6363 - val_loss: 0.8963 - val_accuracy: 0.4501\n",
            "Epoch 2/80\n",
            "3269/3269 [==============================] - 11s 3ms/step - loss: 0.6099 - accuracy: 0.6485 - val_loss: 0.9814 - val_accuracy: 0.3140\n",
            "Epoch 3/80\n",
            "3269/3269 [==============================] - 9s 3ms/step - loss: 0.6043 - accuracy: 0.6509 - val_loss: 0.9991 - val_accuracy: 0.2415\n",
            "Epoch 4/80\n",
            "3269/3269 [==============================] - 7s 2ms/step - loss: 0.5996 - accuracy: 0.6571 - val_loss: 1.1629 - val_accuracy: 0.1365\n",
            "Epoch 5/80\n",
            "3269/3269 [==============================] - 12s 4ms/step - loss: 0.5978 - accuracy: 0.6589 - val_loss: 1.0917 - val_accuracy: 0.2566\n",
            "Epoch 6/80\n",
            "3269/3269 [==============================] - 10s 3ms/step - loss: 0.5930 - accuracy: 0.6633 - val_loss: 0.9271 - val_accuracy: 0.3344\n",
            "Epoch 7/80\n",
            "3269/3269 [==============================] - 12s 4ms/step - loss: 0.5906 - accuracy: 0.6632 - val_loss: 0.7373 - val_accuracy: 0.6269\n",
            "Epoch 8/80\n",
            "3269/3269 [==============================] - 10s 3ms/step - loss: 0.5884 - accuracy: 0.6692 - val_loss: 0.7977 - val_accuracy: 0.5030\n",
            "Epoch 9/80\n",
            "3269/3269 [==============================] - 23s 7ms/step - loss: 0.5874 - accuracy: 0.6680 - val_loss: 0.8140 - val_accuracy: 0.5161\n",
            "Epoch 10/80\n",
            "3269/3269 [==============================] - 10s 3ms/step - loss: 0.5851 - accuracy: 0.6695 - val_loss: 0.8940 - val_accuracy: 0.4003\n",
            "Epoch 11/80\n",
            "3269/3269 [==============================] - 12s 4ms/step - loss: 0.5849 - accuracy: 0.6709 - val_loss: 0.8424 - val_accuracy: 0.4968\n",
            "Epoch 12/80\n",
            "3269/3269 [==============================] - 9s 3ms/step - loss: 0.5827 - accuracy: 0.6727 - val_loss: 0.7434 - val_accuracy: 0.6034\n",
            "Epoch 13/80\n",
            "3269/3269 [==============================] - 7s 2ms/step - loss: 0.5814 - accuracy: 0.6716 - val_loss: 0.7688 - val_accuracy: 0.5717\n",
            "Epoch 14/80\n",
            "3269/3269 [==============================] - 13s 4ms/step - loss: 0.5793 - accuracy: 0.6716 - val_loss: 0.7619 - val_accuracy: 0.6015\n",
            "Epoch 15/80\n",
            "3269/3269 [==============================] - 10s 3ms/step - loss: 0.5798 - accuracy: 0.6711 - val_loss: 0.8646 - val_accuracy: 0.4447\n",
            "Epoch 16/80\n",
            "3269/3269 [==============================] - 7s 2ms/step - loss: 0.5780 - accuracy: 0.6763 - val_loss: 0.9298 - val_accuracy: 0.3875\n",
            "Epoch 17/80\n",
            "3269/3269 [==============================] - 9s 3ms/step - loss: 0.5767 - accuracy: 0.6742 - val_loss: 0.7907 - val_accuracy: 0.5695\n"
          ]
        }
      ]
    },
    {
      "cell_type": "code",
      "source": [
        "model.predict(X)\n",
        "np.round(model.predict(X),0) \n",
        "y\n",
        "\n",
        "preds = np.round(model.predict(X_test),0)\n",
        "\n",
        "# confusion matrix\n",
        "# print(confusion_matrix(y, preds)) # order matters! (actual, predicted)\n",
        "\n",
        "## array([[490,  59],   ([[TN, FP],\n",
        "##       [105, 235]])     [Fn, TP]])\n",
        "\n",
        "print(classification_report(y_test, preds))"
      ],
      "metadata": {
        "colab": {
          "base_uri": "https://localhost:8080/"
        },
        "id": "x5yWyLvRRhyu",
        "outputId": "e6fd600a-ce45-451f-8b36-bccfba17e74f"
      },
      "execution_count": null,
      "outputs": [
        {
          "output_type": "stream",
          "name": "stdout",
          "text": [
            "1277/1277 [==============================] - 3s 2ms/step\n",
            "1277/1277 [==============================] - 2s 1ms/step\n",
            "256/256 [==============================] - 0s 1ms/step\n",
            "              precision    recall  f1-score   support\n",
            "\n",
            "           0       0.68      0.62      0.65      4081\n",
            "           1       0.65      0.71      0.68      4090\n",
            "\n",
            "    accuracy                           0.67      8171\n",
            "   macro avg       0.67      0.67      0.67      8171\n",
            "weighted avg       0.67      0.67      0.67      8171\n",
            "\n"
          ]
        }
      ]
    },
    {
      "cell_type": "code",
      "source": [
        "df.head()"
      ],
      "metadata": {
        "colab": {
          "base_uri": "https://localhost:8080/",
          "height": 206
        },
        "id": "QDlcsnKxeoWf",
        "outputId": "3bf3b30f-34a1-486b-f2b0-d34241ec8d7d"
      },
      "execution_count": null,
      "outputs": [
        {
          "output_type": "execute_result",
          "data": {
            "text/plain": [
              "   hypertension  avg_glucose_level  heart_disease   age   bmi  work_type  \\\n",
              "0             0             228.69              1  63.0  36.6          4   \n",
              "1             0             105.92              1  42.0  32.5          4   \n",
              "2             0             171.23              0  61.0  34.4          4   \n",
              "3             1             174.12              0  41.0  24.0          3   \n",
              "4             0             186.21              0  85.0  29.0          4   \n",
              "\n",
              "   stroke  \n",
              "0       1  \n",
              "1       1  \n",
              "2       1  \n",
              "3       1  \n",
              "4       1  "
            ],
            "text/html": [
              "\n",
              "  <div id=\"df-846d07aa-8ec0-4079-923c-372b5f897e62\">\n",
              "    <div class=\"colab-df-container\">\n",
              "      <div>\n",
              "<style scoped>\n",
              "    .dataframe tbody tr th:only-of-type {\n",
              "        vertical-align: middle;\n",
              "    }\n",
              "\n",
              "    .dataframe tbody tr th {\n",
              "        vertical-align: top;\n",
              "    }\n",
              "\n",
              "    .dataframe thead th {\n",
              "        text-align: right;\n",
              "    }\n",
              "</style>\n",
              "<table border=\"1\" class=\"dataframe\">\n",
              "  <thead>\n",
              "    <tr style=\"text-align: right;\">\n",
              "      <th></th>\n",
              "      <th>hypertension</th>\n",
              "      <th>avg_glucose_level</th>\n",
              "      <th>heart_disease</th>\n",
              "      <th>age</th>\n",
              "      <th>bmi</th>\n",
              "      <th>work_type</th>\n",
              "      <th>stroke</th>\n",
              "    </tr>\n",
              "  </thead>\n",
              "  <tbody>\n",
              "    <tr>\n",
              "      <th>0</th>\n",
              "      <td>0</td>\n",
              "      <td>228.69</td>\n",
              "      <td>1</td>\n",
              "      <td>63.0</td>\n",
              "      <td>36.6</td>\n",
              "      <td>4</td>\n",
              "      <td>1</td>\n",
              "    </tr>\n",
              "    <tr>\n",
              "      <th>1</th>\n",
              "      <td>0</td>\n",
              "      <td>105.92</td>\n",
              "      <td>1</td>\n",
              "      <td>42.0</td>\n",
              "      <td>32.5</td>\n",
              "      <td>4</td>\n",
              "      <td>1</td>\n",
              "    </tr>\n",
              "    <tr>\n",
              "      <th>2</th>\n",
              "      <td>0</td>\n",
              "      <td>171.23</td>\n",
              "      <td>0</td>\n",
              "      <td>61.0</td>\n",
              "      <td>34.4</td>\n",
              "      <td>4</td>\n",
              "      <td>1</td>\n",
              "    </tr>\n",
              "    <tr>\n",
              "      <th>3</th>\n",
              "      <td>1</td>\n",
              "      <td>174.12</td>\n",
              "      <td>0</td>\n",
              "      <td>41.0</td>\n",
              "      <td>24.0</td>\n",
              "      <td>3</td>\n",
              "      <td>1</td>\n",
              "    </tr>\n",
              "    <tr>\n",
              "      <th>4</th>\n",
              "      <td>0</td>\n",
              "      <td>186.21</td>\n",
              "      <td>0</td>\n",
              "      <td>85.0</td>\n",
              "      <td>29.0</td>\n",
              "      <td>4</td>\n",
              "      <td>1</td>\n",
              "    </tr>\n",
              "  </tbody>\n",
              "</table>\n",
              "</div>\n",
              "      <button class=\"colab-df-convert\" onclick=\"convertToInteractive('df-846d07aa-8ec0-4079-923c-372b5f897e62')\"\n",
              "              title=\"Convert this dataframe to an interactive table.\"\n",
              "              style=\"display:none;\">\n",
              "        \n",
              "  <svg xmlns=\"http://www.w3.org/2000/svg\" height=\"24px\"viewBox=\"0 0 24 24\"\n",
              "       width=\"24px\">\n",
              "    <path d=\"M0 0h24v24H0V0z\" fill=\"none\"/>\n",
              "    <path d=\"M18.56 5.44l.94 2.06.94-2.06 2.06-.94-2.06-.94-.94-2.06-.94 2.06-2.06.94zm-11 1L8.5 8.5l.94-2.06 2.06-.94-2.06-.94L8.5 2.5l-.94 2.06-2.06.94zm10 10l.94 2.06.94-2.06 2.06-.94-2.06-.94-.94-2.06-.94 2.06-2.06.94z\"/><path d=\"M17.41 7.96l-1.37-1.37c-.4-.4-.92-.59-1.43-.59-.52 0-1.04.2-1.43.59L10.3 9.45l-7.72 7.72c-.78.78-.78 2.05 0 2.83L4 21.41c.39.39.9.59 1.41.59.51 0 1.02-.2 1.41-.59l7.78-7.78 2.81-2.81c.8-.78.8-2.07 0-2.86zM5.41 20L4 18.59l7.72-7.72 1.47 1.35L5.41 20z\"/>\n",
              "  </svg>\n",
              "      </button>\n",
              "      \n",
              "  <style>\n",
              "    .colab-df-container {\n",
              "      display:flex;\n",
              "      flex-wrap:wrap;\n",
              "      gap: 12px;\n",
              "    }\n",
              "\n",
              "    .colab-df-convert {\n",
              "      background-color: #E8F0FE;\n",
              "      border: none;\n",
              "      border-radius: 50%;\n",
              "      cursor: pointer;\n",
              "      display: none;\n",
              "      fill: #1967D2;\n",
              "      height: 32px;\n",
              "      padding: 0 0 0 0;\n",
              "      width: 32px;\n",
              "    }\n",
              "\n",
              "    .colab-df-convert:hover {\n",
              "      background-color: #E2EBFA;\n",
              "      box-shadow: 0px 1px 2px rgba(60, 64, 67, 0.3), 0px 1px 3px 1px rgba(60, 64, 67, 0.15);\n",
              "      fill: #174EA6;\n",
              "    }\n",
              "\n",
              "    [theme=dark] .colab-df-convert {\n",
              "      background-color: #3B4455;\n",
              "      fill: #D2E3FC;\n",
              "    }\n",
              "\n",
              "    [theme=dark] .colab-df-convert:hover {\n",
              "      background-color: #434B5C;\n",
              "      box-shadow: 0px 1px 3px 1px rgba(0, 0, 0, 0.15);\n",
              "      filter: drop-shadow(0px 1px 2px rgba(0, 0, 0, 0.3));\n",
              "      fill: #FFFFFF;\n",
              "    }\n",
              "  </style>\n",
              "\n",
              "      <script>\n",
              "        const buttonEl =\n",
              "          document.querySelector('#df-846d07aa-8ec0-4079-923c-372b5f897e62 button.colab-df-convert');\n",
              "        buttonEl.style.display =\n",
              "          google.colab.kernel.accessAllowed ? 'block' : 'none';\n",
              "\n",
              "        async function convertToInteractive(key) {\n",
              "          const element = document.querySelector('#df-846d07aa-8ec0-4079-923c-372b5f897e62');\n",
              "          const dataTable =\n",
              "            await google.colab.kernel.invokeFunction('convertToInteractive',\n",
              "                                                     [key], {});\n",
              "          if (!dataTable) return;\n",
              "\n",
              "          const docLinkHtml = 'Like what you see? Visit the ' +\n",
              "            '<a target=\"_blank\" href=https://colab.research.google.com/notebooks/data_table.ipynb>data table notebook</a>'\n",
              "            + ' to learn more about interactive tables.';\n",
              "          element.innerHTML = '';\n",
              "          dataTable['output_type'] = 'display_data';\n",
              "          await google.colab.output.renderOutput(dataTable, element);\n",
              "          const docLink = document.createElement('div');\n",
              "          docLink.innerHTML = docLinkHtml;\n",
              "          element.appendChild(docLink);\n",
              "        }\n",
              "      </script>\n",
              "    </div>\n",
              "  </div>\n",
              "  "
            ]
          },
          "metadata": {},
          "execution_count": 30
        }
      ]
    },
    {
      "cell_type": "code",
      "source": [
        "\n",
        "# importing utility modules\n",
        "import pandas as pd\n",
        "from sklearn.model_selection import train_test_split\n",
        "from sklearn.metrics import log_loss\n",
        " \n",
        "# importing machine learning models for prediction\n",
        "from sklearn.ensemble import RandomForestClassifier\n",
        "from xgboost import XGBClassifier\n",
        "from sklearn.linear_model import LogisticRegression\n",
        " \n",
        "# importing voting classifier\n",
        "from sklearn.ensemble import VotingClassifier\n",
        " \n",
        "# loading train data set in dataframe from train_data.csv file\n",
        " \n",
        "# getting target data from the dataframe\n",
        "y = df['stroke']\n",
        "X = df.drop(['stroke'], axis=1)\n",
        " \n",
        "# Splitting between train data into training and validation dataset\n",
        "X_train, X_test, y_train, y_test = train_test_split(\n",
        "    X, y, test_size=0.20)\n",
        " \n",
        "# initializing all the model objects with default parameters\n",
        "model_1 = LogisticRegression()\n",
        "model_2 = XGBClassifier()\n",
        "model_3 = RandomForestClassifier()\n",
        " \n",
        "# Making the final model using voting classifier\n",
        "final_model = VotingClassifier(\n",
        "    estimators=[('lr', model_1), ('xgb', model_2), ('rf', model_3)], voting='hard')\n",
        " \n",
        "# training all the model on the train dataset\n",
        "final_model.fit(X_train, y_train)\n",
        " \n",
        "# predicting the output on the test dataset\n",
        "pred_final = final_model.predict(X_test)\n",
        "\n",
        "print(final_model.score(X_train, y_train))\n",
        "print(final_model.score(X_test, y_test))\n",
        " \n",
        "# printing log loss between actual and predicted value\n",
        "print(log_loss(y_test, pred_final))\n",
        "\n",
        "preds = np.round(final_model.predict(X_test),0)\n",
        "print(classification_report(y_test, preds))"
      ],
      "metadata": {
        "colab": {
          "base_uri": "https://localhost:8080/"
        },
        "id": "kp9AnmPveavj",
        "outputId": "993cd120-12f0-4b8c-90dd-73801e655187"
      },
      "execution_count": null,
      "outputs": [
        {
          "output_type": "stream",
          "name": "stdout",
          "text": [
            "0.9971428571428571\n",
            "0.9937142857142857\n",
            "0.22656010701730803\n",
            "              precision    recall  f1-score   support\n",
            "\n",
            "           0       1.00      0.98      0.99      2914\n",
            "           1       0.99      1.00      0.99      4086\n",
            "\n",
            "    accuracy                           0.99      7000\n",
            "   macro avg       0.99      0.99      0.99      7000\n",
            "weighted avg       0.99      0.99      0.99      7000\n",
            "\n"
          ]
        }
      ]
    }
  ]
}